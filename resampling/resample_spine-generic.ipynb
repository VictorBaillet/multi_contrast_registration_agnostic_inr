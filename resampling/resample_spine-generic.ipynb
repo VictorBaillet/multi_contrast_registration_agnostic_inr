{
 "cells": [
  {
   "cell_type": "code",
   "execution_count": 2,
   "id": "9a10a9d2-d9b0-4142-848d-484a9718a32c",
   "metadata": {
    "tags": []
   },
   "outputs": [],
   "source": [
    "import nibabel as nib\n",
    "import nibabel.processing as nip\n",
    "import nibabel.orientations as nio\n",
    "import numpy as np\n",
    "import os\n",
    "import glob\n",
    "from skimage.measure import label, regionprops\n",
    "from skimage.filters import threshold_otsu\n"
   ]
  },
  {
   "cell_type": "code",
   "execution_count": 3,
   "id": "2933abf6-3186-4188-b1ad-f9e5ee35a0b2",
   "metadata": {
    "tags": []
   },
   "outputs": [],
   "source": [
    "def resample_nib(img, voxel_spacing=(1, 1, 1), order=3):\n",
    "    \"\"\"Resamples the nifti from its original spacing to another specified spacing\n",
    "    \n",
    "    Parameters:\n",
    "    ----------\n",
    "    img: nibabel image\n",
    "    voxel_spacing: a tuple of 3 integers specifying the desired new spacing\n",
    "    order: the order of interpolation\n",
    "    \n",
    "    Returns:\n",
    "    ----------\n",
    "    new_img: The resampled nibabel image \n",
    "    \n",
    "    \"\"\"\n",
    "    # resample to new voxel spacing based on the current x-y-z-orientation\n",
    "    aff = img.affine\n",
    "    shp = img.shape\n",
    "    zms = img.header.get_zooms()\n",
    "    # Calculate new shape\n",
    "    new_shp = tuple(np.rint([\n",
    "        shp[0] * zms[0] / voxel_spacing[0],\n",
    "        shp[1] * zms[1] / voxel_spacing[1],\n",
    "        shp[2] * zms[2] / voxel_spacing[2]\n",
    "        ]).astype(int))\n",
    "    new_aff = nib.affines.rescale_affine(aff, shp, voxel_spacing, new_shp)\n",
    "    new_img = nip.resample_from_to(img, (new_shp, new_aff), order=order)\n",
    "    print(\"[*] Image resampled to voxel size:\", voxel_spacing)\n",
    "    return new_img"
   ]
  },
  {
   "cell_type": "code",
   "execution_count": 4,
   "id": "1b14f9bd-6dde-42f1-bd53-7f3305a49cf1",
   "metadata": {
    "tags": []
   },
   "outputs": [],
   "source": [
    "in_path = \"/home/GRAMES.POLYMTL.CA/p118945/data_nvme_p118945/multi_contrast_nir/spine_generic/sub-hamburg02/01\""
   ]
  },
  {
   "cell_type": "code",
   "execution_count": 5,
   "id": "9604eeb0-2fee-48e6-9134-ed914c9e92e3",
   "metadata": {
    "tags": []
   },
   "outputs": [],
   "source": [
    "file_list = glob.glob(os.path.join(in_path,'*.nii.gz'))"
   ]
  },
  {
   "cell_type": "code",
   "execution_count": 6,
   "id": "fec3781d-7444-4e0b-9118-3fe510dff804",
   "metadata": {
    "tags": []
   },
   "outputs": [
    {
     "data": {
      "text/plain": [
       "['/home/GRAMES.POLYMTL.CA/p118945/data_nvme_p118945/multi_contrast_nir/spine_generic/sub-hamburg02/01/sub-hamburg02_T2w_mask_LR.nii.gz',\n",
       " '/home/GRAMES.POLYMTL.CA/p118945/data_nvme_p118945/multi_contrast_nir/spine_generic/sub-hamburg02/01/sub-hamburg02_bodymask.nii.gz',\n",
       " '/home/GRAMES.POLYMTL.CA/p118945/data_nvme_p118945/multi_contrast_nir/spine_generic/sub-hamburg02/01/sub-hamburg02_T2w.nii.gz',\n",
       " '/home/GRAMES.POLYMTL.CA/p118945/data_nvme_p118945/multi_contrast_nir/spine_generic/sub-hamburg02/01/sub-hamburg02_T1w_LR.nii.gz',\n",
       " '/home/GRAMES.POLYMTL.CA/p118945/data_nvme_p118945/multi_contrast_nir/spine_generic/sub-hamburg02/01/sub-hamburg02_T2w_LR.nii.gz',\n",
       " '/home/GRAMES.POLYMTL.CA/p118945/data_nvme_p118945/multi_contrast_nir/spine_generic/sub-hamburg02/01/sub-hamburg02_T1w_mask_LR.nii.gz',\n",
       " '/home/GRAMES.POLYMTL.CA/p118945/data_nvme_p118945/multi_contrast_nir/spine_generic/sub-hamburg02/01/sub-hamburg02_T1w.nii.gz']"
      ]
     },
     "execution_count": 6,
     "metadata": {},
     "output_type": "execute_result"
    }
   ],
   "source": [
    "file_list"
   ]
  },
  {
   "cell_type": "code",
   "execution_count": 30,
   "id": "02f3084e-4e5a-4b28-8c51-54238f258730",
   "metadata": {
    "tags": []
   },
   "outputs": [],
   "source": [
    "def create_mask2(img):\n",
    "    img_data = img.get_fdata()\n",
    "    img_affine = img.affine\n",
    "    \n",
    "    # Threshold the data using Otsu's algorithm\n",
    "    #thresh = threshold_otsu(img_data)\n",
    "    thresh = 10\n",
    "    img_mask = np.where(img_data > thresh, 1, 0).astype(np.uint8)\n",
    "    print(thresh)\n",
    "    \n",
    "    # Identify the external part of the body using binary erosion\n",
    "    from scipy.ndimage.morphology import binary_erosion\n",
    "    ext_mask = binary_erosion(img_mask, iterations=3)\n",
    "    #ext_mask = img_mask\n",
    "    \n",
    "    mask_data = np.zeros_like(img_mask)\n",
    "    mask_data[ext_mask == 1] = 1\n",
    "    img_mask_img = nib.Nifti1Image(mask_data, img_affine)\n",
    "    return img_mask_img\n",
    "\n",
    "def create_mask(img):\n",
    "    img_data = img.get_fdata()\n",
    "    img_affine = img.affine\n",
    "    mask_data = np.zeros_like(img_data)\n",
    "    mask_data[mask_data == 0] = 1\n",
    "    return nib.Nifti1Image(mask_data.astype(np.uint8), img_affine)\n",
    "    "
   ]
  },
  {
   "cell_type": "code",
   "execution_count": 7,
   "id": "33bef39c-02d8-4dc5-8acc-5f595f87c2a3",
   "metadata": {
    "tags": []
   },
   "outputs": [],
   "source": [
    "for root, dirs, files in os.walk(in_path):\n",
    "    for name in files:\n",
    "        if \"T2w.nii.gz\" in name:\n",
    "            t2_name = os.path.join(root, name)\n",
    "            t1_name = t2_name.replace(\"T2w\",\"T1w\")\n",
    "            # dir_name = flare_name.replace(\"flair\",\"dir\")\n",
    "            mask_name = t2_name.replace(\"T2w\",\"bodymask\")\n",
    "            \n",
    "            img_t2 = nib.load(t2_name)\n",
    "            img_t1 = nib.load(t1_name)\n",
    "            # img_dir = nib.load(dir_name)\n",
    "            mask = create_mask(img_t2)\n",
    "            nib.save(mask, mask_name)"
   ]
  },
  {
   "cell_type": "code",
   "execution_count": 8,
   "id": "56a3ceb8-9f68-4343-adb3-915f85c36e8a",
   "metadata": {
    "tags": []
   },
   "outputs": [
    {
     "name": "stdout",
     "output_type": "stream",
     "text": [
      "[*] Image resampled to voxel size: (4.0, 0.8, 0.8)\n",
      "[*] Image resampled to voxel size: (0.8, 0.8, 4.0)\n",
      "[*] Image resampled to voxel size: (4.0, 0.8, 0.8)\n",
      "[*] Image resampled to voxel size: (0.8, 0.8, 4.0)\n"
     ]
    }
   ],
   "source": [
    "sizes = []\n",
    "shape_ = np.array([160, 224, 160])\n",
    "for root, dirs, files in os.walk(in_path):\n",
    "    for name in files:\n",
    "        if \"T2w.nii.gz\" in name:\n",
    "            t2_name = os.path.join(root, name)\n",
    "            t1_name = t2_name.replace(\"T2w\",\"T1w\")\n",
    "            # dir_name = flare_name.replace(\"flair\",\"dir\")\n",
    "            mask_name = t2_name.replace(\"T2w\",\"bodymask\")\n",
    "            \n",
    "            img_t2 = nib.load(t2_name)\n",
    "            img_t1 = nib.load(t1_name)\n",
    "            # img_dir = nib.load(dir_name)\n",
    "            mask = create_mask(img_t2)\n",
    "            nib.save(mask, mask_name)\n",
    "            \n",
    "            mask_data = mask.get_fdata()\n",
    "            '''\n",
    "            props = regionprops(mask_data)\n",
    "            \n",
    "            box = np.array(props[0].bbox)\n",
    "            span = box[3:]-box[:3]\n",
    "            padd = shape_-span\n",
    "            padd_l = np.fmin(padd//2, box[:3])\n",
    "            padd_r = padd-padd_l\n",
    "            \n",
    "            box[:3] -= padd_l\n",
    "            box[3:] += padd_r\n",
    "            \n",
    "            # print(box)\n",
    "            \n",
    "            img_flair = nib.nifti1.Nifti1Image(img_flair.get_data()[box[0]:box[3],box[1]:box[4],box[2]:box[5]], affine=img_flair.get_affine())\n",
    "            img_t1 = nib.nifti1.Nifti1Image(img_t1.get_data()[box[0]:box[3],box[1]:box[4],box[2]:box[5]], affine=img_t1.get_affine())\n",
    "            # img_dir = nib.nifti1.Nifti1Image(img_dir.get_data()[box[0]:box[3],box[1]:box[4],box[2]:box[5]], affine=img_t1.get_affine())\n",
    "            mask = nib.nifti1.Nifti1Image(mask.get_data()[box[0]:box[3],box[1]:box[4],box[2]:box[5]], affine=mask.get_affine())\n",
    "            \n",
    "            if not os.path.exists(os.path.split(flare_name.replace(\"msseg_segmentation_challenge\",\"NeRF_MS16_data\"))[0]):\n",
    "                os.makedirs(os.path.split(flare_name.replace(\"msseg_segmentation_challenge\",\"NeRF_MS16_data\"))[0])\n",
    "            \n",
    "            \n",
    "            nib.save(img_flair, flare_name.replace(\"msseg_segmentation_challenge\",\"NeRF_MS16_data\"))  \n",
    "            nib.save(img_t1, t1_name.replace(\"msseg_segmentation_challenge\",\"NeRF_MS16_data\"))\n",
    "            # nib.save(img_dir, dir_name.replace(\"msseg_segmentation_challenge\",\"NeRF_MS16_data\")) \n",
    "            nib.save(mask, mask_name.replace(\"msseg_segmentation_challenge\",\"NeRF_MS16_data\")) \n",
    "            '''\n",
    "            \n",
    "            img_t2 = resample_nib(img_t2, voxel_spacing=(4.0, 0.8, 0.8), order=1)\n",
    "            img_t1 = resample_nib(img_t1, voxel_spacing=(0.8, 0.8, 4.0), order=1)\n",
    "            # img_dir = resample_nib(img_dir, voxel_spacing=(1.0, 1.0, 4.0), order=3)\n",
    "            \n",
    "            mask_t2 = resample_nib(mask, voxel_spacing=(4.0, 0.8, 0.8), order=0)\n",
    "            mask_t1 = resample_nib(mask, voxel_spacing=(0.8, 0.8, 4.0), order=0)\n",
    "            # mask_dir = resample_nib(mask, voxel_spacing=(1.0, 1.0, 4.0), order=0)\n",
    "                \n",
    "            nib.save(img_t2, t2_name.replace(\"T2w\",\"T2w_LR\"))  \n",
    "            nib.save(img_t1, t1_name.replace(\"T1w\",\"T1w_LR\"))  \n",
    "            # nib.save(img_dir, dir_name.replace(\"msseg_segmentation_challenge\",\"NeRF_MS16_data\").replace(\"dir\",\"dir_LR\"))\n",
    "            \n",
    "            nib.save(mask_t2, t2_name.replace(\"T2w\",\"T2w_mask_LR\"))  \n",
    "            nib.save(mask_t1, t1_name.replace(\"T1w\",\"T1w_mask_LR\"))\n",
    "            # nib.save(mask_dir, dir_name.replace(\"msseg_segmentation_challenge\",\"NeRF_MS16_data\").replace(\"dir\",\"dir_mask_LR\"))\n",
    "\n",
    "            # print(os.path.join(root, name))\n"
   ]
  },
  {
   "cell_type": "code",
   "execution_count": 7,
   "id": "d02b7e64-56f9-4aeb-9b50-842987a4a007",
   "metadata": {
    "tags": []
   },
   "outputs": [],
   "source": [
    "im = nib.load(\"/home/GRAMES.POLYMTL.CA/p118945/data_nvme_p118945/multi_contrast_nir/spine_generic/sub-hamburg02/01/sub-hamburg02_T2w_LR.nii.gz\")"
   ]
  },
  {
   "cell_type": "code",
   "execution_count": 8,
   "id": "e1f04f8f-d929-4398-83b7-5334646d2312",
   "metadata": {
    "tags": []
   },
   "outputs": [
    {
     "data": {
      "text/plain": [
       "(4.0, 0.8, 0.8)"
      ]
     },
     "execution_count": 8,
     "metadata": {},
     "output_type": "execute_result"
    }
   ],
   "source": [
    "im.header.get_zooms()"
   ]
  },
  {
   "cell_type": "code",
   "execution_count": null,
   "id": "f7b1bd69-0770-447f-8e78-fc3ce25286d1",
   "metadata": {},
   "outputs": [],
   "source": []
  }
 ],
 "metadata": {
  "kernelspec": {
   "display_name": "Python 3 (ipykernel)",
   "language": "python",
   "name": "python3"
  },
  "language_info": {
   "codemirror_mode": {
    "name": "ipython",
    "version": 3
   },
   "file_extension": ".py",
   "mimetype": "text/x-python",
   "name": "python",
   "nbconvert_exporter": "python",
   "pygments_lexer": "ipython3",
   "version": "3.10.6"
  }
 },
 "nbformat": 4,
 "nbformat_minor": 5
}
